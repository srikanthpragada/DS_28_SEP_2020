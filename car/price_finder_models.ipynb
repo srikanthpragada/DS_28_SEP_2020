{
 "cells": [
  {
   "cell_type": "code",
   "execution_count": 1,
   "metadata": {},
   "outputs": [],
   "source": [
    "# import pandas library\n",
    "import pandas as pd\n",
    "import numpy as np\n",
    "import matplotlib.pyplot as plt\n",
    "import seaborn as sns"
   ]
  },
  {
   "cell_type": "markdown",
   "metadata": {},
   "source": [
    "## Build model using LinearRegression"
   ]
  },
  {
   "cell_type": "code",
   "execution_count": 12,
   "metadata": {},
   "outputs": [],
   "source": [
    "cars = pd.read_csv(\"final_cars.csv\")"
   ]
  },
  {
   "cell_type": "code",
   "execution_count": 13,
   "metadata": {},
   "outputs": [
    {
     "data": {
      "text/plain": [
       "Index(['make', 'fuel-type', 'num-of-doors', 'body-style', 'drive-wheels',\n",
       "       'length', 'width', 'curb-weight', 'engine-size', 'highway-mpg',\n",
       "       'price'],\n",
       "      dtype='object')"
      ]
     },
     "execution_count": 13,
     "metadata": {},
     "output_type": "execute_result"
    }
   ],
   "source": [
    "cars.columns"
   ]
  },
  {
   "cell_type": "code",
   "execution_count": 14,
   "metadata": {},
   "outputs": [],
   "source": [
    "## create X and Y\n",
    "y = cars['price']\n",
    "X = cars.drop(columns=['price'])"
   ]
  },
  {
   "cell_type": "code",
   "execution_count": 15,
   "metadata": {},
   "outputs": [
    {
     "data": {
      "text/html": [
       "<div>\n",
       "<style scoped>\n",
       "    .dataframe tbody tr th:only-of-type {\n",
       "        vertical-align: middle;\n",
       "    }\n",
       "\n",
       "    .dataframe tbody tr th {\n",
       "        vertical-align: top;\n",
       "    }\n",
       "\n",
       "    .dataframe thead th {\n",
       "        text-align: right;\n",
       "    }\n",
       "</style>\n",
       "<table border=\"1\" class=\"dataframe\">\n",
       "  <thead>\n",
       "    <tr style=\"text-align: right;\">\n",
       "      <th></th>\n",
       "      <th>make</th>\n",
       "      <th>fuel-type</th>\n",
       "      <th>num-of-doors</th>\n",
       "      <th>body-style</th>\n",
       "      <th>drive-wheels</th>\n",
       "      <th>length</th>\n",
       "      <th>width</th>\n",
       "      <th>curb-weight</th>\n",
       "      <th>engine-size</th>\n",
       "      <th>highway-mpg</th>\n",
       "    </tr>\n",
       "  </thead>\n",
       "  <tbody>\n",
       "    <tr>\n",
       "      <th>147</th>\n",
       "      <td>toyota</td>\n",
       "      <td>gas</td>\n",
       "      <td>two</td>\n",
       "      <td>hatchback</td>\n",
       "      <td>fwd</td>\n",
       "      <td>158.7</td>\n",
       "      <td>63.6</td>\n",
       "      <td>2040</td>\n",
       "      <td>92</td>\n",
       "      <td>38</td>\n",
       "    </tr>\n",
       "    <tr>\n",
       "      <th>77</th>\n",
       "      <td>mitsubishi</td>\n",
       "      <td>gas</td>\n",
       "      <td>two</td>\n",
       "      <td>hatchback</td>\n",
       "      <td>fwd</td>\n",
       "      <td>173.0</td>\n",
       "      <td>65.4</td>\n",
       "      <td>2370</td>\n",
       "      <td>110</td>\n",
       "      <td>30</td>\n",
       "    </tr>\n",
       "    <tr>\n",
       "      <th>171</th>\n",
       "      <td>toyota</td>\n",
       "      <td>gas</td>\n",
       "      <td>four</td>\n",
       "      <td>hatchback</td>\n",
       "      <td>fwd</td>\n",
       "      <td>175.6</td>\n",
       "      <td>66.5</td>\n",
       "      <td>2414</td>\n",
       "      <td>122</td>\n",
       "      <td>32</td>\n",
       "    </tr>\n",
       "    <tr>\n",
       "      <th>165</th>\n",
       "      <td>toyota</td>\n",
       "      <td>gas</td>\n",
       "      <td>two</td>\n",
       "      <td>hatchback</td>\n",
       "      <td>rwd</td>\n",
       "      <td>176.2</td>\n",
       "      <td>65.6</td>\n",
       "      <td>2551</td>\n",
       "      <td>146</td>\n",
       "      <td>30</td>\n",
       "    </tr>\n",
       "    <tr>\n",
       "      <th>76</th>\n",
       "      <td>mitsubishi</td>\n",
       "      <td>gas</td>\n",
       "      <td>two</td>\n",
       "      <td>hatchback</td>\n",
       "      <td>fwd</td>\n",
       "      <td>157.3</td>\n",
       "      <td>63.8</td>\n",
       "      <td>2145</td>\n",
       "      <td>98</td>\n",
       "      <td>30</td>\n",
       "    </tr>\n",
       "  </tbody>\n",
       "</table>\n",
       "</div>"
      ],
      "text/plain": [
       "           make fuel-type num-of-doors body-style drive-wheels  length  width  \\\n",
       "147      toyota       gas          two  hatchback          fwd   158.7   63.6   \n",
       "77   mitsubishi       gas          two  hatchback          fwd   173.0   65.4   \n",
       "171      toyota       gas         four  hatchback          fwd   175.6   66.5   \n",
       "165      toyota       gas          two  hatchback          rwd   176.2   65.6   \n",
       "76   mitsubishi       gas          two  hatchback          fwd   157.3   63.8   \n",
       "\n",
       "     curb-weight  engine-size  highway-mpg  \n",
       "147         2040           92           38  \n",
       "77          2370          110           30  \n",
       "171         2414          122           32  \n",
       "165         2551          146           30  \n",
       "76          2145           98           30  "
      ]
     },
     "execution_count": 15,
     "metadata": {},
     "output_type": "execute_result"
    }
   ],
   "source": [
    "X.sample(5)"
   ]
  },
  {
   "cell_type": "code",
   "execution_count": 16,
   "metadata": {},
   "outputs": [],
   "source": [
    "X  = pd.get_dummies(X)"
   ]
  },
  {
   "cell_type": "code",
   "execution_count": 6,
   "metadata": {},
   "outputs": [
    {
     "data": {
      "text/plain": [
       "((201, 39), (201,))"
      ]
     },
     "execution_count": 6,
     "metadata": {},
     "output_type": "execute_result"
    }
   ],
   "source": [
    "X.shape,y.shape"
   ]
  },
  {
   "cell_type": "code",
   "execution_count": 7,
   "metadata": {},
   "outputs": [
    {
     "data": {
      "text/plain": [
       "Index(['length', 'width', 'curb-weight', 'engine-size', 'highway-mpg',\n",
       "       'make_alfa-romero', 'make_audi', 'make_bmw', 'make_chevrolet',\n",
       "       'make_dodge', 'make_honda', 'make_isuzu', 'make_jaguar', 'make_mazda',\n",
       "       'make_mercedes-benz', 'make_mercury', 'make_mitsubishi', 'make_nissan',\n",
       "       'make_peugot', 'make_plymouth', 'make_porsche', 'make_renault',\n",
       "       'make_saab', 'make_subaru', 'make_toyota', 'make_volkswagen',\n",
       "       'make_volvo', 'fuel-type_diesel', 'fuel-type_gas', 'num-of-doors_four',\n",
       "       'num-of-doors_two', 'body-style_convertible', 'body-style_hardtop',\n",
       "       'body-style_hatchback', 'body-style_sedan', 'body-style_wagon',\n",
       "       'drive-wheels_4wd', 'drive-wheels_fwd', 'drive-wheels_rwd'],\n",
       "      dtype='object')"
      ]
     },
     "execution_count": 7,
     "metadata": {},
     "output_type": "execute_result"
    }
   ],
   "source": [
    "X.columns"
   ]
  },
  {
   "cell_type": "code",
   "execution_count": 17,
   "metadata": {},
   "outputs": [],
   "source": [
    "from sklearn.model_selection import train_test_split"
   ]
  },
  {
   "cell_type": "code",
   "execution_count": 18,
   "metadata": {},
   "outputs": [],
   "source": [
    "from sklearn.linear_model import LinearRegression"
   ]
  },
  {
   "cell_type": "code",
   "execution_count": 19,
   "metadata": {},
   "outputs": [],
   "source": [
    "X_train, X_test, y_train, y_test = train_test_split(X,y, test_size=0.2, random_state=99)"
   ]
  },
  {
   "cell_type": "code",
   "execution_count": 20,
   "metadata": {},
   "outputs": [
    {
     "data": {
      "text/plain": [
       "LinearRegression(copy_X=True, fit_intercept=True, n_jobs=None, normalize=False)"
      ]
     },
     "execution_count": 20,
     "metadata": {},
     "output_type": "execute_result"
    }
   ],
   "source": [
    "model = LinearRegression()\n",
    "model.fit(X_train,y_train)"
   ]
  },
  {
   "cell_type": "code",
   "execution_count": 21,
   "metadata": {},
   "outputs": [
    {
     "name": "stdout",
     "output_type": "stream",
     "text": [
      "length                    -28\n",
      "width                     481\n",
      "curb-weight               5\n",
      "engine-size               37\n",
      "highway-mpg               -74\n",
      "make_alfa-romero          -1800\n",
      "make_audi                 1600\n",
      "make_bmw                  8167\n",
      "make_chevrolet            237\n",
      "make_dodge                -2003\n",
      "make_honda                -1355\n",
      "make_isuzu                -4552\n",
      "make_jaguar               6703\n",
      "make_mazda                -1334\n",
      "make_mercedes-benz        5972\n",
      "make_mercury              -1539\n",
      "make_mitsubishi           -2911\n",
      "make_nissan               -1820\n",
      "make_peugot               -3694\n",
      "make_plymouth             -2497\n",
      "make_porsche              11534\n",
      "make_renault              -3549\n",
      "make_saab                 42\n",
      "make_subaru               -2542\n",
      "make_toyota               -2697\n",
      "make_volkswagen           -1682\n",
      "make_volvo                -281\n",
      "fuel-type_diesel          76\n",
      "fuel-type_gas             -76\n",
      "num-of-doors_four         -8\n",
      "num-of-doors_two          8\n",
      "body-style_convertible    2989\n",
      "body-style_hardtop        -1129\n",
      "body-style_hatchback      -417\n",
      "body-style_sedan          -115\n",
      "body-style_wagon          -1328\n",
      "drive-wheels_4wd          -254\n",
      "drive-wheels_fwd          -374\n",
      "drive-wheels_rwd          628\n"
     ]
    }
   ],
   "source": [
    "# Display coefficient for each column\n",
    "for t in zip(X_train.columns, model.coef_):\n",
    "  print(f\"{t[0]:25s} {t[1]:.0f}\")"
   ]
  },
  {
   "cell_type": "code",
   "execution_count": 22,
   "metadata": {},
   "outputs": [
    {
     "data": {
      "text/plain": [
       "-27296.852210292334"
      ]
     },
     "execution_count": 22,
     "metadata": {},
     "output_type": "execute_result"
    }
   ],
   "source": [
    "model.intercept_"
   ]
  },
  {
   "cell_type": "markdown",
   "metadata": {},
   "source": [
    "### Calculate accuracy with train data"
   ]
  },
  {
   "cell_type": "code",
   "execution_count": 23,
   "metadata": {},
   "outputs": [],
   "source": [
    "from sklearn.metrics import mean_squared_error, r2_score, mean_absolute_error"
   ]
  },
  {
   "cell_type": "code",
   "execution_count": 24,
   "metadata": {},
   "outputs": [
    {
     "name": "stdout",
     "output_type": "stream",
     "text": [
      "MSE  :  3813305.296046502\n",
      "RMSE :  1952.7686232747858\n"
     ]
    }
   ],
   "source": [
    "y_pred = model.predict(X_train)\n",
    "print(\"MSE  : \", mean_squared_error(y_train,y_pred))\n",
    "print(\"RMSE : \", np.sqrt(mean_squared_error(y_train,y_pred)))"
   ]
  },
  {
   "cell_type": "code",
   "execution_count": 25,
   "metadata": {},
   "outputs": [
    {
     "name": "stdout",
     "output_type": "stream",
     "text": [
      "R2 Score: 0.93\n"
     ]
    }
   ],
   "source": [
    "r2score = r2_score(y_train,y_pred)\n",
    "print(f\"R2 Score: {r2score:0.2f}\")"
   ]
  },
  {
   "cell_type": "markdown",
   "metadata": {},
   "source": [
    "### Test with test data"
   ]
  },
  {
   "cell_type": "code",
   "execution_count": 26,
   "metadata": {},
   "outputs": [],
   "source": [
    "y_pred = model.predict(X_test)"
   ]
  },
  {
   "cell_type": "code",
   "execution_count": 27,
   "metadata": {},
   "outputs": [
    {
     "name": "stdout",
     "output_type": "stream",
     "text": [
      "Mean Squared Error : 6304877.08\n",
      "Root Mean Squared Error : 2510.95\n",
      "Mean Absolute Error : 1668.38\n",
      "R2 Score: 0.93\n"
     ]
    }
   ],
   "source": [
    "## get MSE \n",
    "mse = mean_squared_error(y_test,y_pred)\n",
    "print(f\"Mean Squared Error : {mse:0.2f}\")\n",
    "\n",
    "rmse = np.sqrt(mse)\n",
    "print(f\"Root Mean Squared Error : {rmse:0.2f}\")\n",
    "\n",
    "mae = mean_absolute_error(y_test,y_pred)\n",
    "print(f\"Mean Absolute Error : {mae:0.2f}\")\n",
    "\n",
    "r2score = r2_score(y_test,y_pred)\n",
    "print(f\"R2 Score: {r2score:0.2f}\")"
   ]
  },
  {
   "cell_type": "code",
   "execution_count": 28,
   "metadata": {},
   "outputs": [
    {
     "data": {
      "text/plain": [
       "<matplotlib.axes._subplots.AxesSubplot at 0x18d3e538488>"
      ]
     },
     "execution_count": 28,
     "metadata": {},
     "output_type": "execute_result"
    },
    {
     "data": {
      "image/png": "[encoded data removed]",
      "text/plain": [
       "<Figure size 1440x720 with 1 Axes>"
      ]
     },
     "metadata": {
      "needs_background": "light"
     },
     "output_type": "display_data"
    }
   ],
   "source": [
    "# Compare actual and predicted values\n",
    "plt.gcf().set_size_inches(20,10)\n",
    "sns.lineplot( y = y_test, x = X_test.index, label=\"Actual\")\n",
    "sns.lineplot( y = y_pred, x = X_test.index, label=\"Predicted\")"
   ]
  },
  {
   "cell_type": "code",
   "execution_count": 19,
   "metadata": {},
   "outputs": [
    {
     "name": "stdout",
     "output_type": "stream",
     "text": [
      "  6195  -    7799 -  -1604\n",
      "  5942  -    6692 -   -750\n",
      " 17092  -   15998 -   1094\n",
      " 31085  -   28248 -   2837\n",
      " 16738  -   15985 -    753\n",
      "  7719  -    6795 -    924\n",
      " 14265  -   14869 -   -604\n",
      " 31731  -   28176 -   3555\n",
      "  7520  -    7603 -    -83\n",
      " 11519  -   11259 -    260\n"
     ]
    }
   ],
   "source": [
    "for p,a in zip(y_pred[:10],y_test[:10]):\n",
    "    print(f\"{p:6.0f}  -  {a:6.0f} - {p - a:6.0f}\")"
   ]
  },
  {
   "cell_type": "code",
   "execution_count": 27,
   "metadata": {},
   "outputs": [
    {
     "name": "stdout",
     "output_type": "stream",
     "text": [
      "  6195  -    7799 -  -1604 - 20.56\n",
      "  5942  -    6692 -   -750 - 11.21\n",
      " 17092  -   15998 -   1094 -  6.84\n",
      " 31085  -   28248 -   2837 - 10.04\n",
      " 16738  -   15985 -    753 -  4.71\n",
      "  7719  -    6795 -    924 - 13.60\n",
      " 14265  -   14869 -   -604 -  4.06\n",
      " 31731  -   28176 -   3555 - 12.62\n",
      "  7520  -    7603 -    -83 -  1.10\n",
      " 11519  -   11259 -    260 -  2.31\n"
     ]
    }
   ],
   "source": [
    "# Display % of difference \n",
    "for p,a in zip(y_pred[:10],y_test[:10]):\n",
    "    d = p - a\n",
    "    print(f\"{p:6.0f}  -  {a:6.0f} - {p - a:6.0f} - {abs(d / a * 100):5.2f}\")"
   ]
  },
  {
   "cell_type": "markdown",
   "metadata": {},
   "source": [
    "## Model with Standardization "
   ]
  },
  {
   "cell_type": "code",
   "execution_count": 29,
   "metadata": {},
   "outputs": [],
   "source": [
    "cars = pd.read_csv(\"final_cars.csv\")"
   ]
  },
  {
   "cell_type": "code",
   "execution_count": 30,
   "metadata": {},
   "outputs": [],
   "source": [
    "## create X and Y\n",
    "y = cars['price']\n",
    "X = cars.drop(columns=['price'])"
   ]
  },
  {
   "cell_type": "code",
   "execution_count": 31,
   "metadata": {},
   "outputs": [],
   "source": [
    "X = pd.get_dummies(X)"
   ]
  },
  {
   "cell_type": "code",
   "execution_count": 32,
   "metadata": {},
   "outputs": [],
   "source": [
    "X_train, X_test, y_train, y_test = train_test_split(X,y, test_size=0.2, random_state=99)"
   ]
  },
  {
   "cell_type": "code",
   "execution_count": 33,
   "metadata": {},
   "outputs": [],
   "source": [
    "from sklearn.preprocessing import StandardScaler\n",
    "scaler = StandardScaler()"
   ]
  },
  {
   "cell_type": "code",
   "execution_count": 35,
   "metadata": {},
   "outputs": [],
   "source": [
    "## Scale X_train and X_test\n",
    "X_train = scaler.fit_transform(X_train)\n",
    "X_test = scaler.transform(X_test)"
   ]
  },
  {
   "cell_type": "code",
   "execution_count": 36,
   "metadata": {},
   "outputs": [],
   "source": [
    "X_train = pd.DataFrame(X_train,columns = X.columns)"
   ]
  },
  {
   "cell_type": "code",
   "execution_count": 37,
   "metadata": {},
   "outputs": [],
   "source": [
    "X_test = pd.DataFrame(X_test,columns = X.columns)"
   ]
  },
  {
   "cell_type": "code",
   "execution_count": 38,
   "metadata": {},
   "outputs": [
    {
     "data": {
      "text/html": [
       "<div>\n",
       "<style scoped>\n",
       "    .dataframe tbody tr th:only-of-type {\n",
       "        vertical-align: middle;\n",
       "    }\n",
       "\n",
       "    .dataframe tbody tr th {\n",
       "        vertical-align: top;\n",
       "    }\n",
       "\n",
       "    .dataframe thead th {\n",
       "        text-align: right;\n",
       "    }\n",
       "</style>\n",
       "<table border=\"1\" class=\"dataframe\">\n",
       "  <thead>\n",
       "    <tr style=\"text-align: right;\">\n",
       "      <th></th>\n",
       "      <th>length</th>\n",
       "      <th>width</th>\n",
       "      <th>curb-weight</th>\n",
       "      <th>engine-size</th>\n",
       "      <th>highway-mpg</th>\n",
       "      <th>make_alfa-romero</th>\n",
       "      <th>make_audi</th>\n",
       "      <th>make_bmw</th>\n",
       "      <th>make_chevrolet</th>\n",
       "      <th>make_dodge</th>\n",
       "      <th>...</th>\n",
       "      <th>num-of-doors_four</th>\n",
       "      <th>num-of-doors_two</th>\n",
       "      <th>body-style_convertible</th>\n",
       "      <th>body-style_hardtop</th>\n",
       "      <th>body-style_hatchback</th>\n",
       "      <th>body-style_sedan</th>\n",
       "      <th>body-style_wagon</th>\n",
       "      <th>drive-wheels_4wd</th>\n",
       "      <th>drive-wheels_fwd</th>\n",
       "      <th>drive-wheels_rwd</th>\n",
       "    </tr>\n",
       "  </thead>\n",
       "  <tbody>\n",
       "    <tr>\n",
       "      <th>0</th>\n",
       "      <td>2.081138</td>\n",
       "      <td>2.994086</td>\n",
       "      <td>2.413275</td>\n",
       "      <td>4.982797</td>\n",
       "      <td>-2.238975</td>\n",
       "      <td>-0.138233</td>\n",
       "      <td>-0.197386</td>\n",
       "      <td>-0.197386</td>\n",
       "      <td>-0.138233</td>\n",
       "      <td>-0.229416</td>\n",
       "      <td>...</td>\n",
       "      <td>-1.148408</td>\n",
       "      <td>1.148408</td>\n",
       "      <td>-0.197386</td>\n",
       "      <td>5.567764</td>\n",
       "      <td>-0.733799</td>\n",
       "      <td>-0.916013</td>\n",
       "      <td>-0.377964</td>\n",
       "      <td>-0.229416</td>\n",
       "      <td>-1.224745</td>\n",
       "      <td>1.362770</td>\n",
       "    </tr>\n",
       "    <tr>\n",
       "      <th>1</th>\n",
       "      <td>-1.306820</td>\n",
       "      <td>-0.956277</td>\n",
       "      <td>-1.071322</td>\n",
       "      <td>-0.923353</td>\n",
       "      <td>1.017716</td>\n",
       "      <td>-0.138233</td>\n",
       "      <td>-0.197386</td>\n",
       "      <td>-0.197386</td>\n",
       "      <td>-0.138233</td>\n",
       "      <td>4.358899</td>\n",
       "      <td>...</td>\n",
       "      <td>0.870771</td>\n",
       "      <td>-0.870771</td>\n",
       "      <td>-0.197386</td>\n",
       "      <td>-0.179605</td>\n",
       "      <td>-0.733799</td>\n",
       "      <td>1.091687</td>\n",
       "      <td>-0.377964</td>\n",
       "      <td>-0.229416</td>\n",
       "      <td>0.816497</td>\n",
       "      <td>-0.733799</td>\n",
       "    </tr>\n",
       "    <tr>\n",
       "      <th>2</th>\n",
       "      <td>-0.538667</td>\n",
       "      <td>-0.763576</td>\n",
       "      <td>-1.150058</td>\n",
       "      <td>-0.895755</td>\n",
       "      <td>1.017716</td>\n",
       "      <td>-0.138233</td>\n",
       "      <td>-0.197386</td>\n",
       "      <td>-0.197386</td>\n",
       "      <td>-0.138233</td>\n",
       "      <td>-0.229416</td>\n",
       "      <td>...</td>\n",
       "      <td>0.870771</td>\n",
       "      <td>-0.870771</td>\n",
       "      <td>-0.197386</td>\n",
       "      <td>-0.179605</td>\n",
       "      <td>-0.733799</td>\n",
       "      <td>1.091687</td>\n",
       "      <td>-0.377964</td>\n",
       "      <td>-0.229416</td>\n",
       "      <td>0.816497</td>\n",
       "      <td>-0.733799</td>\n",
       "    </tr>\n",
       "    <tr>\n",
       "      <th>3</th>\n",
       "      <td>0.811665</td>\n",
       "      <td>0.922554</td>\n",
       "      <td>0.921319</td>\n",
       "      <td>1.312152</td>\n",
       "      <td>-1.054724</td>\n",
       "      <td>-0.138233</td>\n",
       "      <td>-0.197386</td>\n",
       "      <td>-0.197386</td>\n",
       "      <td>-0.138233</td>\n",
       "      <td>-0.229416</td>\n",
       "      <td>...</td>\n",
       "      <td>-1.148408</td>\n",
       "      <td>1.148408</td>\n",
       "      <td>-0.197386</td>\n",
       "      <td>-0.179605</td>\n",
       "      <td>1.362770</td>\n",
       "      <td>-0.916013</td>\n",
       "      <td>-0.377964</td>\n",
       "      <td>-0.229416</td>\n",
       "      <td>-1.224745</td>\n",
       "      <td>1.362770</td>\n",
       "    </tr>\n",
       "    <tr>\n",
       "      <th>4</th>\n",
       "      <td>-0.005003</td>\n",
       "      <td>-0.281825</td>\n",
       "      <td>-0.439410</td>\n",
       "      <td>-0.095388</td>\n",
       "      <td>0.425590</td>\n",
       "      <td>-0.138233</td>\n",
       "      <td>-0.197386</td>\n",
       "      <td>-0.197386</td>\n",
       "      <td>-0.138233</td>\n",
       "      <td>-0.229416</td>\n",
       "      <td>...</td>\n",
       "      <td>0.870771</td>\n",
       "      <td>-0.870771</td>\n",
       "      <td>-0.197386</td>\n",
       "      <td>-0.179605</td>\n",
       "      <td>-0.733799</td>\n",
       "      <td>1.091687</td>\n",
       "      <td>-0.377964</td>\n",
       "      <td>-0.229416</td>\n",
       "      <td>0.816497</td>\n",
       "      <td>-0.733799</td>\n",
       "    </tr>\n",
       "  </tbody>\n",
       "</table>\n",
       "<p>5 rows × 39 columns</p>\n",
       "</div>"
      ],
      "text/plain": [
       "     length     width  curb-weight  engine-size  highway-mpg  \\\n",
       "0  2.081138  2.994086     2.413275     4.982797    -2.238975   \n",
       "1 -1.306820 -0.956277    -1.071322    -0.923353     1.017716   \n",
       "2 -0.538667 -0.763576    -1.150058    -0.895755     1.017716   \n",
       "3  0.811665  0.922554     0.921319     1.312152    -1.054724   \n",
       "4 -0.005003 -0.281825    -0.439410    -0.095388     0.425590   \n",
       "\n",
       "   make_alfa-romero  make_audi  make_bmw  make_chevrolet  make_dodge  ...  \\\n",
       "0         -0.138233  -0.197386 -0.197386       -0.138233   -0.229416  ...   \n",
       "1         -0.138233  -0.197386 -0.197386       -0.138233    4.358899  ...   \n",
       "2         -0.138233  -0.197386 -0.197386       -0.138233   -0.229416  ...   \n",
       "3         -0.138233  -0.197386 -0.197386       -0.138233   -0.229416  ...   \n",
       "4         -0.138233  -0.197386 -0.197386       -0.138233   -0.229416  ...   \n",
       "\n",
       "   num-of-doors_four  num-of-doors_two  body-style_convertible  \\\n",
       "0          -1.148408          1.148408               -0.197386   \n",
       "1           0.870771         -0.870771               -0.197386   \n",
       "2           0.870771         -0.870771               -0.197386   \n",
       "3          -1.148408          1.148408               -0.197386   \n",
       "4           0.870771         -0.870771               -0.197386   \n",
       "\n",
       "   body-style_hardtop  body-style_hatchback  body-style_sedan  \\\n",
       "0            5.567764             -0.733799         -0.916013   \n",
       "1           -0.179605             -0.733799          1.091687   \n",
       "2           -0.179605             -0.733799          1.091687   \n",
       "3           -0.179605              1.362770         -0.916013   \n",
       "4           -0.179605             -0.733799          1.091687   \n",
       "\n",
       "   body-style_wagon  drive-wheels_4wd  drive-wheels_fwd  drive-wheels_rwd  \n",
       "0         -0.377964         -0.229416         -1.224745          1.362770  \n",
       "1         -0.377964         -0.229416          0.816497         -0.733799  \n",
       "2         -0.377964         -0.229416          0.816497         -0.733799  \n",
       "3         -0.377964         -0.229416         -1.224745          1.362770  \n",
       "4         -0.377964         -0.229416          0.816497         -0.733799  \n",
       "\n",
       "[5 rows x 39 columns]"
      ]
     },
     "execution_count": 38,
     "metadata": {},
     "output_type": "execute_result"
    }
   ],
   "source": [
    "X_test.head()"
   ]
  },
  {
   "cell_type": "code",
   "execution_count": 39,
   "metadata": {},
   "outputs": [
    {
     "data": {
      "text/plain": [
       "LinearRegression(copy_X=True, fit_intercept=True, n_jobs=None, normalize=False)"
      ]
     },
     "execution_count": 39,
     "metadata": {},
     "output_type": "execute_result"
    }
   ],
   "source": [
    "model = LinearRegression()\n",
    "model.fit(X_train,y_train)"
   ]
  },
  {
   "cell_type": "code",
   "execution_count": 40,
   "metadata": {},
   "outputs": [],
   "source": [
    "y_pred = model.predict(X_test)"
   ]
  },
  {
   "cell_type": "code",
   "execution_count": 41,
   "metadata": {},
   "outputs": [
    {
     "name": "stdout",
     "output_type": "stream",
     "text": [
      "Mean Squared Error : 6304877.08\n",
      "Root Mean Squared Error : 2510.95\n",
      "Mean Absolute Error : 1668.38\n",
      "R2 Score: 0.93\n"
     ]
    }
   ],
   "source": [
    "## get MSE \n",
    "mse = mean_squared_error(y_test,y_pred)\n",
    "print(f\"Mean Squared Error : {mse:0.2f}\")\n",
    "\n",
    "rmse = np.sqrt(mean_squared_error(y_test,y_pred))\n",
    "print(f\"Root Mean Squared Error : {rmse:0.2f}\")\n",
    "\n",
    "mae = mean_absolute_error(y_test,y_pred)\n",
    "print(f\"Mean Absolute Error : {mae:0.2f}\")\n",
    "\n",
    "r2score = r2_score(y_test,y_pred)\n",
    "print(f\"R2 Score: {r2score:0.2f}\")"
   ]
  },
  {
   "cell_type": "markdown",
   "metadata": {},
   "source": [
    "### Micro model with 2 features "
   ]
  },
  {
   "cell_type": "code",
   "execution_count": 42,
   "metadata": {},
   "outputs": [],
   "source": [
    "# Micro model\n",
    "X_micro =  X[['engine-size','highway-mpg']]\n",
    "y_micro =  y"
   ]
  },
  {
   "cell_type": "code",
   "execution_count": 43,
   "metadata": {},
   "outputs": [],
   "source": [
    "X_micro_train, X_micro_test, y_micro_train, y_micro_test = train_test_split(X_micro,y_micro, test_size=0.2, random_state=0)"
   ]
  },
  {
   "cell_type": "code",
   "execution_count": 45,
   "metadata": {},
   "outputs": [
    {
     "data": {
      "text/plain": [
       "LinearRegression(copy_X=True, fit_intercept=True, n_jobs=None, normalize=True)"
      ]
     },
     "execution_count": 45,
     "metadata": {},
     "output_type": "execute_result"
    }
   ],
   "source": [
    "micro_model = LinearRegression(normalize=True)\n",
    "micro_model.fit(X_micro_train,y_micro_train)"
   ]
  },
  {
   "cell_type": "code",
   "execution_count": 47,
   "metadata": {},
   "outputs": [
    {
     "data": {
      "text/plain": [
       "0.7796926906820935"
      ]
     },
     "execution_count": 47,
     "metadata": {},
     "output_type": "execute_result"
    }
   ],
   "source": [
    "micro_model.score(X_micro_train,y_micro_train) # r2 for train data "
   ]
  },
  {
   "cell_type": "code",
   "execution_count": 48,
   "metadata": {},
   "outputs": [],
   "source": [
    "y_micro_pred = micro_model.predict(X_micro_test)"
   ]
  },
  {
   "cell_type": "code",
   "execution_count": 49,
   "metadata": {},
   "outputs": [
    {
     "name": "stdout",
     "output_type": "stream",
     "text": [
      "R2 Score: 0.79\n"
     ]
    }
   ],
   "source": [
    "r2score = r2_score(y_micro_test,y_micro_pred)\n",
    "print(f\"R2 Score: {r2score:0.2f}\")"
   ]
  },
  {
   "cell_type": "markdown",
   "metadata": {},
   "source": [
    "## RandomForestRegressor "
   ]
  },
  {
   "cell_type": "code",
   "execution_count": 23,
   "metadata": {},
   "outputs": [],
   "source": [
    "from sklearn.ensemble import RandomForestRegressor"
   ]
  },
  {
   "cell_type": "code",
   "execution_count": 24,
   "metadata": {},
   "outputs": [],
   "source": [
    "X_train, X_test, y_train, y_test = train_test_split(X,y, test_size=0.2, random_state=99)"
   ]
  },
  {
   "cell_type": "code",
   "execution_count": 25,
   "metadata": {},
   "outputs": [
    {
     "name": "stdout",
     "output_type": "stream",
     "text": [
      "Train score : 0.9869475209985776\n"
     ]
    }
   ],
   "source": [
    "model = RandomForestRegressor()\n",
    "model.fit(X_train, y_train)\n",
    "print(f'Train score : {model.score(X_train,y_train)}')"
   ]
  },
  {
   "cell_type": "code",
   "execution_count": 26,
   "metadata": {},
   "outputs": [
    {
     "name": "stdout",
     "output_type": "stream",
     "text": [
      "Test Score  : 0.91\n"
     ]
    }
   ],
   "source": [
    "y_pred = model.predict(X_test)\n",
    "r2score = r2_score(y_test,y_pred)\n",
    "print(f'Test Score  : {r2score:0.2f}')"
   ]
  },
  {
   "cell_type": "code",
   "execution_count": 27,
   "metadata": {},
   "outputs": [
    {
     "name": "stdout",
     "output_type": "stream",
     "text": [
      "MSE  :  6257180.3761794465\n",
      "RMSE :  2501.4356630102334\n"
     ]
    }
   ],
   "source": [
    "mse = mean_squared_error(y_test,y_pred)\n",
    "print(\"MSE  : \",mse)\n",
    "print(\"RMSE : \", np.sqrt(mse))"
   ]
  },
  {
   "cell_type": "code",
   "execution_count": 28,
   "metadata": {},
   "outputs": [
    {
     "name": "stdout",
     "output_type": "stream",
     "text": [
      "length                         0.02\n",
      "width                          0.02\n",
      "curb-weight                    0.27\n",
      "engine-size                    0.55\n",
      "horsepower                     0.04\n",
      "city-mpg                       0.08\n",
      "fuel-type_diesel               0.00\n",
      "fuel-type_gas                  0.00\n",
      "num-of-doors_four              0.00\n",
      "num-of-doors_two               0.00\n",
      "body-style_convertible         0.00\n",
      "body-style_hardtop             0.00\n",
      "body-style_hatchback           0.00\n",
      "body-style_sedan               0.00\n",
      "body-style_wagon               0.00\n",
      "drive-wheels_4wd               0.00\n",
      "drive-wheels_fwd               0.00\n",
      "drive-wheels_rwd               0.00\n"
     ]
    }
   ],
   "source": [
    "for f,v in zip (X_train.columns, model.feature_importances_):\n",
    "      print(f\"{f:30} {v:0.2f}\")"
   ]
  },
  {
   "cell_type": "code",
   "execution_count": 29,
   "metadata": {},
   "outputs": [
    {
     "data": {
      "text/plain": [
       "<matplotlib.axes._subplots.AxesSubplot at 0x26b0883c308>"
      ]
     },
     "execution_count": 29,
     "metadata": {},
     "output_type": "execute_result"
    },
    {
     "data": {
      "image/png": "[encoded data removed]",
      "text/plain": [
       "<Figure size 1440x720 with 1 Axes>"
      ]
     },
     "metadata": {
      "needs_background": "light"
     },
     "output_type": "display_data"
    }
   ],
   "source": [
    "# Compare actual and predicted values\n",
    "plt.gcf().set_size_inches(20,10)\n",
    "sns.lineplot( y = y_test, x = X_test.index, label=\"Actual\")\n",
    "sns.lineplot( y = y_pred, x = X_test.index, label=\"Predicted\")"
   ]
  },
  {
   "cell_type": "markdown",
   "metadata": {},
   "source": [
    "### SGDRegressor"
   ]
  },
  {
   "cell_type": "code",
   "execution_count": 47,
   "metadata": {},
   "outputs": [],
   "source": [
    "from sklearn.linear_model import SGDRegressor"
   ]
  },
  {
   "cell_type": "code",
   "execution_count": 48,
   "metadata": {},
   "outputs": [],
   "source": [
    "X_train, X_test, y_train, y_test = train_test_split(X,y, test_size=0.2, random_state=99)"
   ]
  },
  {
   "cell_type": "code",
   "execution_count": 49,
   "metadata": {},
   "outputs": [],
   "source": [
    "from sklearn.preprocessing import StandardScaler\n",
    "scaler = StandardScaler()"
   ]
  },
  {
   "cell_type": "code",
   "execution_count": 50,
   "metadata": {},
   "outputs": [],
   "source": [
    "## use same scale for X_train and X_test\n",
    "scaler.fit(X_train)\n",
    "X_train = scaler.transform(X_train)\n",
    "X_test = scaler.transform(X_test)"
   ]
  },
  {
   "cell_type": "code",
   "execution_count": 51,
   "metadata": {},
   "outputs": [
    {
     "name": "stdout",
     "output_type": "stream",
     "text": [
      "Train score : 0.9400729944836433\n"
     ]
    }
   ],
   "source": [
    "model = SGDRegressor(random_state=100, penalty=\"l1\")\n",
    "model.fit(X_train, y_train)\n",
    "print(f'Train score : {model.score(X_train,y_train)}')"
   ]
  },
  {
   "cell_type": "code",
   "execution_count": 52,
   "metadata": {},
   "outputs": [
    {
     "name": "stdout",
     "output_type": "stream",
     "text": [
      "Test Score  : 0.92\n"
     ]
    }
   ],
   "source": [
    "y_pred = model.predict(X_test)\n",
    "r2score = r2_score(y_test,y_pred)\n",
    "print(f'Test Score  : {r2score:0.2f}')"
   ]
  },
  {
   "cell_type": "code",
   "execution_count": 53,
   "metadata": {},
   "outputs": [
    {
     "name": "stdout",
     "output_type": "stream",
     "text": [
      "MSE  :  5109246.434989209\n",
      "RMSE :  2260.364226178872\n"
     ]
    }
   ],
   "source": [
    "mse = mean_squared_error(y_test,y_pred)\n",
    "print(\"MSE  : \",mse)\n",
    "print(\"RMSE : \", np.sqrt(mse))"
   ]
  },
  {
   "cell_type": "code",
   "execution_count": null,
   "metadata": {},
   "outputs": [],
   "source": []
  },
  {
   "cell_type": "code",
   "execution_count": null,
   "metadata": {},
   "outputs": [],
   "source": []
  }
 ],
 "metadata": {
  "kernelspec": {
   "display_name": "Python 3",
   "language": "python",
   "name": "python3"
  },
  "language_info": {
   "codemirror_mode": {
    "name": "ipython",
    "version": 3
   },
   "file_extension": ".py",
   "mimetype": "text/x-python",
   "name": "python",
   "nbconvert_exporter": "python",
   "pygments_lexer": "ipython3",
   "version": "3.7.6"
  }
 },
 "nbformat": 4,
 "nbformat_minor": 4
}
