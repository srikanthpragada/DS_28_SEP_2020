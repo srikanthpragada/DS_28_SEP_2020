{
 "cells": [
  {
   "cell_type": "markdown",
   "metadata": {},
   "source": [
    "### Import libraries "
   ]
  },
  {
   "cell_type": "code",
   "execution_count": 121,
   "metadata": {},
   "outputs": [],
   "source": [
    "# Importing required Packages\n",
    "import pandas as pd\n",
    "import numpy as np\n",
    "import seaborn as sns\n",
    "import matplotlib.pyplot as plt\n",
    "%matplotlib inline\n",
    "sns.set(style='white')"
   ]
  },
  {
   "cell_type": "markdown",
   "metadata": {},
   "source": [
    "## Load data from final csv"
   ]
  },
  {
   "cell_type": "code",
   "execution_count": 122,
   "metadata": {},
   "outputs": [],
   "source": [
    "train = pd.read_csv(\"final_train.csv\")"
   ]
  },
  {
   "cell_type": "code",
   "execution_count": 123,
   "metadata": {},
   "outputs": [
    {
     "data": {
      "text/plain": [
       "Index(['Gender', 'Married', 'Dependents', 'Education', 'SelfEmployed',\n",
       "       'LoanAmountTerm', 'CreditHistory', 'PropertyArea', 'LoanStatus',\n",
       "       'LoanAmountLog', 'IncomeLog'],\n",
       "      dtype='object')"
      ]
     },
     "execution_count": 123,
     "metadata": {},
     "output_type": "execute_result"
    }
   ],
   "source": [
    "train.columns"
   ]
  },
  {
   "cell_type": "code",
   "execution_count": 124,
   "metadata": {},
   "outputs": [],
   "source": [
    "y = train.LoanStatus\n",
    "X = train.drop('LoanStatus',axis=1)"
   ]
  },
  {
   "cell_type": "code",
   "execution_count": 125,
   "metadata": {},
   "outputs": [],
   "source": [
    "X = pd.get_dummies(X)"
   ]
  },
  {
   "cell_type": "code",
   "execution_count": 126,
   "metadata": {},
   "outputs": [
    {
     "data": {
      "text/plain": [
       "((564, 16), (564,))"
      ]
     },
     "execution_count": 126,
     "metadata": {},
     "output_type": "execute_result"
    }
   ],
   "source": [
    "X.shape, y.shape"
   ]
  },
  {
   "cell_type": "markdown",
   "metadata": {},
   "source": [
    "## Logistic Regression"
   ]
  },
  {
   "cell_type": "code",
   "execution_count": 127,
   "metadata": {},
   "outputs": [],
   "source": [
    "# Importing packages logistic regression and evaluation \n",
    "from sklearn.linear_model import LogisticRegression\n",
    "from sklearn.model_selection import train_test_split\n",
    "from sklearn.metrics import confusion_matrix\n",
    "from sklearn.metrics import classification_report\n",
    "from sklearn.metrics import accuracy_score\n",
    "from sklearn.metrics import precision_score"
   ]
  },
  {
   "cell_type": "markdown",
   "metadata": {},
   "source": [
    "### Split data into train and test data "
   ]
  },
  {
   "cell_type": "code",
   "execution_count": 128,
   "metadata": {},
   "outputs": [],
   "source": [
    "X_train, X_test, y_train, y_test = train_test_split(X,y, test_size=0.2, random_state=0)"
   ]
  },
  {
   "cell_type": "code",
   "execution_count": 129,
   "metadata": {},
   "outputs": [
    {
     "data": {
      "text/plain": [
       "LogisticRegression(C=1.0, class_weight=None, dual=False, fit_intercept=True,\n",
       "                   intercept_scaling=1, l1_ratio=None, max_iter=500,\n",
       "                   multi_class='auto', n_jobs=None, penalty='l2',\n",
       "                   random_state=1, solver='lbfgs', tol=0.0001, verbose=0,\n",
       "                   warm_start=False)"
      ]
     },
     "execution_count": 129,
     "metadata": {},
     "output_type": "execute_result"
    }
   ],
   "source": [
    "# logistic regression   \n",
    "model = LogisticRegression(random_state=1, max_iter=500)\n",
    "model.fit(X_train,y_train)"
   ]
  },
  {
   "cell_type": "code",
   "execution_count": 130,
   "metadata": {},
   "outputs": [
    {
     "data": {
      "text/plain": [
       "0.8248337028824834"
      ]
     },
     "execution_count": 130,
     "metadata": {},
     "output_type": "execute_result"
    }
   ],
   "source": [
    "# Check model's performance with train data \n",
    "model.score(X_train,y_train)"
   ]
  },
  {
   "cell_type": "code",
   "execution_count": 131,
   "metadata": {},
   "outputs": [
    {
     "name": "stdout",
     "output_type": "stream",
     "text": [
      "Accuracy_score : 0.7787610619469026\n"
     ]
    }
   ],
   "source": [
    "y_pred = model.predict(X_test)\n",
    "score = accuracy_score(y_test,y_pred)\n",
    "print('Accuracy_score :',score)   "
   ]
  },
  {
   "cell_type": "code",
   "execution_count": 132,
   "metadata": {},
   "outputs": [
    {
     "data": {
      "text/plain": [
       "(array([-0.23299448]),\n",
       " array([[ 9.60178001e-02, -1.29121842e-03,  3.54536578e+00,\n",
       "         -1.21697411e-01, -8.59638909e-02, -2.17515101e-01,\n",
       "          2.85766256e-02, -2.77420752e-01,  8.84822763e-02,\n",
       "          5.08936597e-02, -2.39832135e-01, -1.57378875e-01,\n",
       "         -3.15596006e-02, -3.24725581e-01,  3.66294441e-01,\n",
       "         -2.30507335e-01]]))"
      ]
     },
     "execution_count": 132,
     "metadata": {},
     "output_type": "execute_result"
    }
   ],
   "source": [
    "model.intercept_, model.coef_"
   ]
  },
  {
   "cell_type": "code",
   "execution_count": 133,
   "metadata": {},
   "outputs": [],
   "source": [
    "y_pred_prob = model.predict_proba(X_test)"
   ]
  },
  {
   "cell_type": "markdown",
   "metadata": {},
   "source": [
    "### Display confusion matrix"
   ]
  },
  {
   "cell_type": "code",
   "execution_count": 134,
   "metadata": {},
   "outputs": [
    {
     "data": {
      "text/plain": [
       "array([[13, 22],\n",
       "       [ 3, 75]], dtype=int64)"
      ]
     },
     "execution_count": 134,
     "metadata": {},
     "output_type": "execute_result"
    }
   ],
   "source": [
    "cm = confusion_matrix(y_test, y_pred)\n",
    "cm"
   ]
  },
  {
   "cell_type": "code",
   "execution_count": 16,
   "metadata": {},
   "outputs": [],
   "source": [
    "tn = cm[0,0]\n",
    "tp = cm[1,1]\n",
    "fp = cm[0,1]\n",
    "fn = cm[1,0]"
   ]
  },
  {
   "cell_type": "code",
   "execution_count": 17,
   "metadata": {},
   "outputs": [
    {
     "name": "stdout",
     "output_type": "stream",
     "text": [
      "Accuracy : 0.8292682926829268\n"
     ]
    }
   ],
   "source": [
    "print('Accuracy :', (tn + tp) / (tp + tn + fp + fn))"
   ]
  },
  {
   "cell_type": "code",
   "execution_count": 18,
   "metadata": {},
   "outputs": [
    {
     "name": "stdout",
     "output_type": "stream",
     "text": [
      "Sensitivity 0.9777777777777777\n"
     ]
    }
   ],
   "source": [
    "print('Sensitivity', tp / (tp + fn))"
   ]
  },
  {
   "cell_type": "code",
   "execution_count": 19,
   "metadata": {},
   "outputs": [
    {
     "name": "stdout",
     "output_type": "stream",
     "text": [
      "Positive Precision : 0.9777777777777777\n"
     ]
    }
   ],
   "source": [
    "print(\"Positive Precision :\", tp / (tp + fn))"
   ]
  },
  {
   "cell_type": "code",
   "execution_count": 20,
   "metadata": {},
   "outputs": [
    {
     "name": "stdout",
     "output_type": "stream",
     "text": [
      "Specificity 0.42424242424242425\n"
     ]
    }
   ],
   "source": [
    "print('Specificity', tn / (tn + fp))"
   ]
  },
  {
   "cell_type": "code",
   "execution_count": 21,
   "metadata": {},
   "outputs": [
    {
     "name": "stdout",
     "output_type": "stream",
     "text": [
      "Negative Precision : 0.875\n"
     ]
    }
   ],
   "source": [
    "print(\"Negative Precision :\", tn / (tn + fn))"
   ]
  },
  {
   "cell_type": "markdown",
   "metadata": {},
   "source": [
    "### Display classification report"
   ]
  },
  {
   "cell_type": "code",
   "execution_count": 135,
   "metadata": {},
   "outputs": [
    {
     "name": "stdout",
     "output_type": "stream",
     "text": [
      "              precision    recall  f1-score   support\n",
      "\n",
      "           0       0.81      0.37      0.51        35\n",
      "           1       0.77      0.96      0.86        78\n",
      "\n",
      "    accuracy                           0.78       113\n",
      "   macro avg       0.79      0.67      0.68       113\n",
      "weighted avg       0.79      0.78      0.75       113\n",
      "\n"
     ]
    }
   ],
   "source": [
    "print(classification_report(y_test,y_pred))"
   ]
  },
  {
   "cell_type": "code",
   "execution_count": 136,
   "metadata": {},
   "outputs": [
    {
     "data": {
      "text/plain": [
       "array([[0.26867291, 0.73132709],\n",
       "       [0.11869394, 0.88130606],\n",
       "       [0.13848761, 0.86151239],\n",
       "       [0.13292543, 0.86707457],\n",
       "       [0.24292957, 0.75707043]])"
      ]
     },
     "execution_count": 136,
     "metadata": {},
     "output_type": "execute_result"
    }
   ],
   "source": [
    "y_pred_prob[:5]"
   ]
  },
  {
   "cell_type": "code",
   "execution_count": 42,
   "metadata": {},
   "outputs": [
    {
     "data": {
      "text/plain": [
       "array([1, 1, 1, 1, 1, 1, 0, 1, 1, 1, 1, 1, 1, 1, 1, 1, 1, 1, 0, 0, 1, 1,\n",
       "       1, 1, 1, 1, 1, 1, 1, 1, 1, 1, 1, 1, 0, 1, 1, 1, 1, 1, 1, 1, 1, 1,\n",
       "       1, 1, 1, 1, 0, 1, 1, 1, 1, 1, 0, 1, 1, 1, 1, 1, 1, 1, 1, 1, 1, 1,\n",
       "       1, 1, 1, 1, 1, 1, 1, 0, 1, 0, 0, 0, 1, 1, 1, 1, 1, 1, 1, 1, 1, 1,\n",
       "       1, 1, 0, 0, 0, 1, 0, 1, 1, 0, 1, 1, 1, 1, 1, 1, 1, 1, 1, 1, 0, 1,\n",
       "       1, 1, 1], dtype=int64)"
      ]
     },
     "execution_count": 42,
     "metadata": {},
     "output_type": "execute_result"
    }
   ],
   "source": [
    "y_pred"
   ]
  },
  {
   "cell_type": "markdown",
   "metadata": {},
   "source": [
    "### Prevision Recall Curve"
   ]
  },
  {
   "cell_type": "code",
   "execution_count": 137,
   "metadata": {},
   "outputs": [],
   "source": [
    "from sklearn.metrics import precision_recall_curve"
   ]
  },
  {
   "cell_type": "code",
   "execution_count": 76,
   "metadata": {},
   "outputs": [],
   "source": [
    "precisions, recalls, thresholds = precision_recall_curve(y_test, model.decision_function(X_test))"
   ]
  },
  {
   "cell_type": "code",
   "execution_count": 87,
   "metadata": {},
   "outputs": [
    {
     "data": {
      "text/plain": [
       "(0.7731958762886598, 0.9615384615384616, 0.4200349252977187)"
      ]
     },
     "execution_count": 87,
     "metadata": {},
     "output_type": "execute_result"
    }
   ],
   "source": [
    "pos = np.argmin(np.abs(thresholds))\n",
    "\n",
    "precisions[pos], recalls[pos], thresholds[pos]"
   ]
  },
  {
   "cell_type": "code",
   "execution_count": 83,
   "metadata": {},
   "outputs": [
    {
     "data": {
      "text/plain": [
       "array([[0.26867291, 0.73132709],\n",
       "       [0.11869394, 0.88130606],\n",
       "       [0.13848761, 0.86151239],\n",
       "       [0.13292543, 0.86707457],\n",
       "       [0.24292957, 0.75707043]])"
      ]
     },
     "execution_count": 83,
     "metadata": {},
     "output_type": "execute_result"
    }
   ],
   "source": [
    "y_pred_prob[:5]"
   ]
  },
  {
   "cell_type": "code",
   "execution_count": 138,
   "metadata": {},
   "outputs": [],
   "source": [
    "precisions, recalls, thresholds = precision_recall_curve(y_test, y_pred_prob[:,1])"
   ]
  },
  {
   "cell_type": "code",
   "execution_count": 141,
   "metadata": {},
   "outputs": [
    {
     "name": "stderr",
     "output_type": "stream",
     "text": [
      "C:\\Anaconda3\\lib\\site-packages\\ipykernel_launcher.py:1: RuntimeWarning: invalid value encountered in true_divide\n",
      "  \"\"\"Entry point for launching an IPython kernel.\n"
     ]
    }
   ],
   "source": [
    "fscore = 2 * ((precisions * recalls) / (precisions + recalls))"
   ]
  },
  {
   "cell_type": "code",
   "execution_count": 156,
   "metadata": {},
   "outputs": [
    {
     "data": {
      "text/plain": [
       "array([0.84324324, 0.83695652, 0.84153005, 0.84615385, 0.83977901,\n",
       "       0.84444444, 0.84916201, 0.85393258, 0.84745763, 0.85227273,\n",
       "       0.85714286, 0.85057471, 0.85549133, 0.84883721, 0.85380117,\n",
       "       0.85882353, 0.85207101, 0.8452381 , 0.8502994 , 0.84337349,\n",
       "       0.83636364, 0.82926829, 0.83435583, 0.82716049, 0.83229814,\n",
       "       0.825     , 0.81761006, 0.82278481, 0.82802548, 0.83333333,\n",
       "       0.82580645, 0.81818182, 0.81045752, 0.80263158, 0.80794702,\n",
       "       0.81333333, 0.81879195, 0.82432432, 0.82993197, 0.82191781,\n",
       "       0.8137931 , 0.80555556, 0.7972028 , 0.8028169 , 0.79432624,\n",
       "       0.78571429, 0.79136691, 0.7826087 , 0.77372263, 0.76470588,\n",
       "       0.75555556, 0.74626866, 0.7518797 , 0.74242424, 0.73282443,\n",
       "       0.72307692, 0.71317829, 0.703125  , 0.69291339, 0.68253968,\n",
       "       0.672     , 0.66129032, 0.6504065 , 0.6557377 , 0.6446281 ,\n",
       "       0.63333333, 0.62184874, 0.61016949, 0.5982906 , 0.5862069 ,\n",
       "       0.57391304, 0.56140351, 0.56637168, 0.55357143, 0.54054054,\n",
       "       0.52727273, 0.51376147, 0.5       , 0.48598131, 0.47169811,\n",
       "       0.47619048, 0.46153846, 0.44660194, 0.43137255, 0.41584158,\n",
       "       0.42      , 0.4040404 , 0.3877551 , 0.37113402, 0.35416667,\n",
       "       0.33684211, 0.31914894, 0.30107527, 0.2826087 , 0.26373626,\n",
       "       0.24444444, 0.2247191 , 0.20454545, 0.18390805, 0.1627907 ,\n",
       "       0.14117647, 0.11904762, 0.09638554, 0.07317073, 0.04938272,\n",
       "       0.025     , 0.        ])"
      ]
     },
     "execution_count": 156,
     "metadata": {},
     "output_type": "execute_result"
    }
   ],
   "source": [
    "fscore[np.isnan(fscore) == False]"
   ]
  },
  {
   "cell_type": "code",
   "execution_count": 157,
   "metadata": {},
   "outputs": [
    {
     "name": "stdout",
     "output_type": "stream",
     "text": [
      "Best Threshold=0.662726, F-Score=0.859\n"
     ]
    }
   ],
   "source": [
    "ix = np.argmax(fscore[np.isnan(fscore) == False])\n",
    "print('Best Threshold=%f, F-Score=%.3f' % (thresholds[ix], fscore[ix]))"
   ]
  },
  {
   "cell_type": "code",
   "execution_count": 108,
   "metadata": {},
   "outputs": [
    {
     "name": "stdout",
     "output_type": "stream",
     "text": [
      "0 85 1.0 0.9545454545454546 0.11319926733662117 0.8355860141044639\n"
     ]
    }
   ],
   "source": [
    "r_pos = np.argmax(recalls[:-1])\n",
    "p_pos = np.argmax(precisions[:-1])\n",
    "print(r_pos, p_pos, recalls[r_pos], precisions[p_pos], thresholds[r_pos], thresholds[p_pos])"
   ]
  },
  {
   "cell_type": "code",
   "execution_count": 51,
   "metadata": {},
   "outputs": [
    {
     "data": {
      "text/plain": [
       "(array([0.72897196, 0.72641509, 0.73333333, 0.74038462, 0.73786408,\n",
       "        0.74509804, 0.75247525, 0.76      , 0.75757576, 0.76530612]),\n",
       " array([1.        , 0.98717949, 0.98717949, 0.98717949, 0.97435897,\n",
       "        0.97435897, 0.97435897, 0.97435897, 0.96153846, 0.96153846]),\n",
       " array([0.11319927, 0.11825568, 0.11937571, 0.11949387, 0.12858657,\n",
       "        0.12965331, 0.13201288, 0.13613317, 0.1603059 , 0.17732071]))"
      ]
     },
     "execution_count": 51,
     "metadata": {},
     "output_type": "execute_result"
    }
   ],
   "source": [
    "(precisions[:10], recalls[:10], thresholds[:10])"
   ]
  },
  {
   "cell_type": "code",
   "execution_count": 143,
   "metadata": {},
   "outputs": [
    {
     "data": {
      "text/plain": [
       "Text(0, 0.5, 'Recall')"
      ]
     },
     "execution_count": 143,
     "metadata": {},
     "output_type": "execute_result"
    },
    {
     "data": {
      "image/png": "[encoded data removed]",
      "text/plain": [
       "<Figure size 432x288 with 1 Axes>"
      ]
     },
     "metadata": {},
     "output_type": "display_data"
    }
   ],
   "source": [
    "plt.plot(precisions,recalls,label=\"Precision vs. Recall\")\n",
    "plt.xlabel(\"Precision\")\n",
    "plt.ylabel(\"Recall\")"
   ]
  },
  {
   "cell_type": "code",
   "execution_count": 75,
   "metadata": {},
   "outputs": [
    {
     "name": "stdout",
     "output_type": "stream",
     "text": [
      "              precision    recall  f1-score   support\n",
      "\n",
      "           0       0.81      0.37      0.51        35\n",
      "           1       0.77      0.96      0.86        78\n",
      "\n",
      "    accuracy                           0.78       113\n",
      "   macro avg       0.79      0.67      0.68       113\n",
      "weighted avg       0.79      0.78      0.75       113\n",
      "\n"
     ]
    }
   ],
   "source": [
    "y_pred_prob_rate =  model.predict_proba(X_test) >= .40\n",
    "print(classification_report(y_test,y_pred_prob_rate[:,1]))"
   ]
  },
  {
   "cell_type": "code",
   "execution_count": 18,
   "metadata": {},
   "outputs": [],
   "source": [
    "from sklearn.metrics import roc_curve, auc"
   ]
  },
  {
   "cell_type": "code",
   "execution_count": 19,
   "metadata": {},
   "outputs": [],
   "source": [
    "fpr, tpr , thresholds = roc_curve(y_test,y_pred)"
   ]
  },
  {
   "cell_type": "code",
   "execution_count": 20,
   "metadata": {},
   "outputs": [
    {
     "data": {
      "text/plain": [
       "(array([0.        , 0.62857143, 1.        ]),\n",
       " array([0.        , 0.96153846, 1.        ]),\n",
       " array([2, 1, 0], dtype=int64))"
      ]
     },
     "execution_count": 20,
     "metadata": {},
     "output_type": "execute_result"
    }
   ],
   "source": [
    "fpr,tpr,thresholds"
   ]
  },
  {
   "cell_type": "code",
   "execution_count": 21,
   "metadata": {},
   "outputs": [
    {
     "data": {
      "text/plain": [
       "Text(0, 0.5, 'TPR')"
      ]
     },
     "execution_count": 21,
     "metadata": {},
     "output_type": "execute_result"
    },
    {
     "data": {
      "image/png": "[encoded data removed]",
      "text/plain": [
       "<Figure size 432x288 with 1 Axes>"
      ]
     },
     "metadata": {},
     "output_type": "display_data"
    }
   ],
   "source": [
    "plt.plot(fpr,tpr)\n",
    "plt.xlabel(\"FPR\")\n",
    "plt.ylabel(\"TPR\")"
   ]
  },
  {
   "cell_type": "code",
   "execution_count": 32,
   "metadata": {},
   "outputs": [
    {
     "data": {
      "text/plain": [
       "0.7010101010101011"
      ]
     },
     "execution_count": 32,
     "metadata": {},
     "output_type": "execute_result"
    }
   ],
   "source": [
    "auc(fpr,tpr)"
   ]
  },
  {
   "cell_type": "code",
   "execution_count": 33,
   "metadata": {},
   "outputs": [
    {
     "data": {
      "text/plain": [
       "0.7010101010101011"
      ]
     },
     "execution_count": 33,
     "metadata": {},
     "output_type": "execute_result"
    }
   ],
   "source": [
    "from sklearn.metrics import roc_auc_score\n",
    "roc_auc_score(y_test,y_pred)"
   ]
  },
  {
   "cell_type": "code",
   "execution_count": null,
   "metadata": {},
   "outputs": [],
   "source": []
  }
 ],
 "metadata": {
  "kernelspec": {
   "display_name": "Python 3",
   "language": "python",
   "name": "python3"
  },
  "language_info": {
   "codemirror_mode": {
    "name": "ipython",
    "version": 3
   },
   "file_extension": ".py",
   "mimetype": "text/x-python",
   "name": "python",
   "nbconvert_exporter": "python",
   "pygments_lexer": "ipython3",
   "version": "3.7.6"
  }
 },
 "nbformat": 4,
 "nbformat_minor": 4
}
